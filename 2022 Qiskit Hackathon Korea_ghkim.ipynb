{
 "cells": [
  {
   "cell_type": "code",
   "execution_count": 2,
   "metadata": {},
   "outputs": [],
   "source": [
    "# Import qiskit and modules\n",
    "import matplotlib.pyplot as plt\n",
    "import numpy as np\n",
    "import math\n",
    "import random\n",
    "import time\n",
    "\n",
    "from math import pi\n",
    "\n",
    "from qiskit import QuantumCircuit, ClassicalRegister, QuantumRegister, transpile, assemble\n",
    "from qiskit import Aer\n",
    "from qiskit.tools.visualization import circuit_drawer\n",
    "from qiskit.quantum_info import state_fidelity\n",
    "from qiskit import BasicAer\n",
    "from qiskit.circuit.library import TwoLocal\n",
    "\n",
    "from scipy.optimize import minimize"
   ]
  },
  {
   "cell_type": "code",
   "execution_count": 3,
   "metadata": {},
   "outputs": [],
   "source": [
    "from AtomLoader import *"
   ]
  },
  {
   "cell_type": "code",
   "execution_count": 4,
   "metadata": {},
   "outputs": [
    {
     "data": {
      "text/plain": [
       "1.0"
      ]
     },
     "execution_count": 4,
     "metadata": {},
     "output_type": "execute_result"
    }
   ],
   "source": [
    "################ Tutorial Block ################\n",
    "# Initializing a three-qubit quantum state\n",
    "desired_vector = [\n",
    "    math.cos(np.pi/4),\n",
    "    0,\n",
    "    math.cos(np.pi/4),\n",
    "    0,\n",
    "    0,\n",
    "    0,\n",
    "    0,\n",
    "    0]\n",
    "\n",
    "\n",
    "q = QuantumRegister(3)\n",
    "\n",
    "qc = QuantumCircuit(q)\n",
    "\n",
    "qc.initialize(desired_vector, [q[0],q[1],q[2]])\n",
    "qc.draw()\n",
    "\n",
    "backend = BasicAer.get_backend('statevector_simulator')\n",
    "job = backend.run(transpile(qc, backend))\n",
    "qc_state = job.result().get_statevector(qc)\n",
    "qc_state\n",
    "\n",
    "state_fidelity(desired_vector,qc_state)"
   ]
  },
  {
   "cell_type": "code",
   "execution_count": 6,
   "metadata": {},
   "outputs": [],
   "source": [
    "def training_circuit(parameters, atomic_descriptors):\n",
    "    \n",
    "    qc = QuantumCircuit(M)\n",
    "    qc_descriptor = QuantumCircuit(M)\n",
    "    \n",
    "    list_eta = parameters[0:M]\n",
    "    list_ksi = parameters[M:M + (depth+1)*M*2] ## twolocal have 4M parameters\n",
    "    \n",
    "    # for i in range(M):\n",
    "    for i, descriptor in enumerate(atomic_descriptors):\n",
    "        qc_descriptor.u(\n",
    "            descriptor[0],\n",
    "            descriptor[1],\n",
    "            0,\n",
    "            i\n",
    "            ) #should be replaced to theta(list_eta[i]), phi(list_ksi[i])\n",
    "        #Young Oh should read this!\n",
    "\n",
    "    twolocal = TwoLocal(num_qubits=M, reps=depth, rotation_blocks=['ry','rz'], \n",
    "                   entanglement_blocks='cx', entanglement='circular', parameter_prefix='ξ', insert_barriers=True)\n",
    "    twolocal = twolocal.bind_parameters(list_ksi)\n",
    "    \n",
    "    qc += qc_descriptor\n",
    "    qc.barrier()\n",
    "\n",
    "    qc += twolocal\n",
    "    qc.barrier()\n",
    "\n",
    "    #Observable\n",
    "    qc.z(0)\n",
    "\n",
    "    qc.barrier()\n",
    "\n",
    "    qc += twolocal.inverse()\n",
    "    qc.barrier()\n",
    "\n",
    "    qc += qc_descriptor.inverse()\n",
    "    qc.barrier()\n",
    "    \n",
    "    return qc"
   ]
  },
  {
   "cell_type": "code",
   "execution_count": 7,
   "metadata": {},
   "outputs": [],
   "source": [
    "def calculate_loss_function(parameters, random_indexes):\n",
    "\n",
    "    \n",
    "    backend = Aer.get_backend('aer_simulator')\n",
    "    loss = 0\n",
    "    for molecule_index in random_indexes:\n",
    "        energy = 0\n",
    "        list_eta = parameters[0:M]\n",
    "        atom_data = AtomLoader(list_eta, idx=[molecule_index])\n",
    "        ground_energy_label = atom_data[molecule_index]['ground_energy']\n",
    "        descriptors = atom_data[molecule_index]['descriptor']\n",
    "        n_atoms = len(atom_data[molecule_index]['descriptor'])\n",
    "        # for i in range(0, N):\n",
    "\n",
    "        for i, atomic_descriptors in enumerate(descriptors):\n",
    "            qctl = QuantumRegister(M)\n",
    "            qc = ClassicalRegister(M)\n",
    "            circ = QuantumCircuit(qctl, qc)\n",
    "        \n",
    "            circ += training_circuit(parameters, atomic_descriptors)\n",
    "            \n",
    "            circ.save_statevector()\n",
    "            t_circ = transpile(circ, backend)\n",
    "            qobj = assemble(t_circ)\n",
    "            job = backend.run(qobj)\n",
    "\n",
    "            result = job.result()\n",
    "            outputstate = result.get_statevector(circ, decimals=100)\n",
    "            o = outputstate\n",
    "\n",
    "            energy += np.real(o[0]) ## <0|GdWdOWG|0> is picking first component of GdWdOWG|0>. I don't think square is necessary\n",
    "        \n",
    "        loss += ((energy - ground_energy_label)/n_atoms)**2\n",
    "\n",
    "    return loss"
   ]
  },
  {
   "cell_type": "code",
   "execution_count": 8,
   "metadata": {},
   "outputs": [
    {
     "name": "stdout",
     "output_type": "stream",
     "text": [
      "Number of total parameters:  21\n"
     ]
    },
    {
     "name": "stderr",
     "output_type": "stream",
     "text": [
      "Traceback (most recent call last):\n",
      "capi_return is NULL\n",
      "Call-back cb_calcfc_in__cobyla__user__routines failed.\n",
      "  File \"/Users/gyeonghun/opt/anaconda3/envs/qiskit/lib/python3.10/site-packages/scipy/optimize/_cobyla_py.py\", line 261, in calcfc\n",
      "Fatal Python error: F2PySwapThreadLocalCallbackPtr: F2PySwapThreadLocalCallbackPtr: PyLong_AsVoidPtr failed\n",
      "Python runtime state: initialized\n",
      "    f = fun(np.copy(x), *args)\n",
      "  File \"/var/folders/3k/xnvq9x5d6t95v307zfjbhxj40000gn/T/ipykernel_50888/27398768.py\", line 23, in calculate_loss_function\n",
      "  File \"/Users/gyeonghun/opt/anaconda3/envs/qiskit/lib/python3.10/site-packages/qiskit/compiler/transpiler.py\", line 335, in transpile\n",
      "    circuits = parallel_map(_transpile_circuit, list(zip(circuits, transpile_args)))\n",
      "  File \"/Users/gyeonghun/opt/anaconda3/envs/qiskit/lib/python3.10/site-packages/qiskit/tools/parallel.py\", line 132, in parallel_map\n",
      "    return [task(values[0], *task_args, **task_kwargs)]\n",
      "  File \"/Users/gyeonghun/opt/anaconda3/envs/qiskit/lib/python3.10/site-packages/qiskit/compiler/transpiler.py\", line 429, in _transpile_circuit\n",
      "    result = pass_manager.run(\n",
      "  File \"/Users/gyeonghun/opt/anaconda3/envs/qiskit/lib/python3.10/site-packages/qiskit/transpiler/passmanager.py\", line 218, in run\n",
      "    return self._run_single_circuit(circuits, output_name, callback)\n",
      "  File \"/Users/gyeonghun/opt/anaconda3/envs/qiskit/lib/python3.10/site-packages/qiskit/transpiler/passmanager.py\", line 273, in _run_single_circuit\n",
      "    result = running_passmanager.run(circuit, output_name=output_name, callback=callback)\n",
      "  File \"/Users/gyeonghun/opt/anaconda3/envs/qiskit/lib/python3.10/site-packages/qiskit/transpiler/runningpassmanager.py\", line 123, in run\n",
      "    dag = self._do_pass(pass_, dag, passset.options)\n",
      "  File \"/Users/gyeonghun/opt/anaconda3/envs/qiskit/lib/python3.10/site-packages/qiskit/transpiler/runningpassmanager.py\", line 154, in _do_pass\n",
      "    dag = self._run_this_pass(pass_, dag)\n",
      "  File \"/Users/gyeonghun/opt/anaconda3/envs/qiskit/lib/python3.10/site-packages/qiskit/transpiler/runningpassmanager.py\", line 166, in _run_this_pass\n",
      "    new_dag = pass_.run(dag)\n",
      "  File \"/Users/gyeonghun/opt/anaconda3/envs/qiskit/lib/python3.10/site-packages/qiskit/transpiler/passes/optimization/optimize_1q_decomposition.py\", line 168, in run\n",
      "    new_basis, new_circ = self._resynthesize_run(run)\n",
      "  File \"/Users/gyeonghun/opt/anaconda3/envs/qiskit/lib/python3.10/site-packages/qiskit/transpiler/passes/optimization/optimize_1q_decomposition.py\", line 82, in _resynthesize_run\n",
      "    new_basis, new_circ = min(new_circs.items(), key=lambda x: len(x[1]))\n",
      "  File \"/Users/gyeonghun/opt/anaconda3/envs/qiskit/lib/python3.10/site-packages/qiskit/transpiler/passes/optimization/optimize_1q_decomposition.py\", line 82, in <lambda>\n",
      "    new_basis, new_circ = min(new_circs.items(), key=lambda x: len(x[1]))\n",
      "  File \"/Users/gyeonghun/opt/anaconda3/envs/qiskit/lib/python3.10/site-packages/qiskit/circuit/quantumcircuit.py\", line 1051, in __len__\n",
      "    return len(self._data)\n",
      "KeyboardInterrupt\n"
     ]
    }
   ],
   "source": [
    "list_theta = [1,2]\n",
    "list_phi = [1,2]\n",
    "\n",
    "M = 3 #Number of descriptors (features) = Number of qubits\n",
    "N = 3 #Number of atoms = Number of circuits\n",
    "depth = 2 #Number of repetitions of layer\n",
    "len_param = M*(2*depth+3) #Number of total parameters (eta + ksi)\n",
    "\n",
    "print(\"Number of total parameters: \", len_param)\n",
    "\n",
    "random_indexes = [str(x) for x in (np.random.choice(len(qm9), 100) + 1)]\n",
    "\n",
    "\n",
    "start = time.time()\n",
    "out = minimize(calculate_loss_function, \n",
    "    x0=[float(random.randint(0,3000))/1000 for i in range(0, len_param)], \n",
    "    method=\"COBYLA\", \n",
    "    options={'maxiter':200},\n",
    "    args=(random_indexes)\n",
    "    )\n",
    "end = time.time()\n",
    "\n",
    "print(f\"Calculation time: {end-start}s\\n\")\n",
    "\n",
    "\n",
    "print(out)\n",
    "\n",
    "#out_f = [out['x'][0:3], out['x'][3:6], out['x'][6:9]]\n"
   ]
  },
  {
   "cell_type": "code",
   "execution_count": null,
   "metadata": {},
   "outputs": [],
   "source": []
  },
  {
   "cell_type": "code",
   "execution_count": null,
   "metadata": {},
   "outputs": [],
   "source": []
  }
 ],
 "metadata": {
  "kernelspec": {
   "display_name": "Python 3",
   "language": "python",
   "name": "python3"
  },
  "language_info": {
   "codemirror_mode": {
    "name": "ipython",
    "version": 3
   },
   "file_extension": ".py",
   "mimetype": "text/x-python",
   "name": "python",
   "nbconvert_exporter": "python",
   "pygments_lexer": "ipython3",
   "version": "3.10.0"
  }
 },
 "nbformat": 4,
 "nbformat_minor": 4
}
