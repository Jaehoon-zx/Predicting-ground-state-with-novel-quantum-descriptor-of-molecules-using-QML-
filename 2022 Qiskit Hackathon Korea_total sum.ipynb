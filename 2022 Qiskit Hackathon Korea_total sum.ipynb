{
 "cells": [
  {
   "cell_type": "code",
   "execution_count": 1,
   "metadata": {},
   "outputs": [],
   "source": [
    "# Import qiskit and modules\n",
    "import matplotlib.pyplot as plt\n",
    "import numpy as np\n",
    "import math\n",
    "import random\n",
    "import time\n",
    "\n",
    "from math import pi\n",
    "\n",
    "from qiskit import QuantumCircuit, ClassicalRegister, QuantumRegister, transpile, assemble\n",
    "from qiskit import Aer\n",
    "from qiskit.tools.visualization import circuit_drawer\n",
    "from qiskit.quantum_info import state_fidelity\n",
    "from qiskit import BasicAer\n",
    "from qiskit.circuit.library import TwoLocal\n",
    "\n",
    "from scipy.optimize import minimize"
   ]
  },
  {
   "cell_type": "code",
   "execution_count": 2,
   "metadata": {},
   "outputs": [],
   "source": [
    "from AtomLoader import *"
   ]
  },
  {
   "cell_type": "code",
   "execution_count": 3,
   "metadata": {},
   "outputs": [],
   "source": [
    "\n",
    "backend = BasicAer.get_backend('statevector_simulator')\n"
   ]
  },
  {
   "cell_type": "code",
   "execution_count": 4,
   "metadata": {},
   "outputs": [],
   "source": [
    "def training_circuit(parameters, atomic_descriptors):\n",
    "    \n",
    "    qc = QuantumCircuit(M)\n",
    "    qc_descriptor = QuantumCircuit(M)\n",
    "    \n",
    "    list_eta = parameters[0:M]\n",
    "    list_ksi = parameters[M:M + (depth+1)*M*2] ## twolocal have 4M parameters\n",
    "    \n",
    "    # for i in range(M):\n",
    "    for i, descriptor in enumerate(atomic_descriptors):\n",
    "        qc_descriptor.u(\n",
    "            descriptor[0],\n",
    "            descriptor[1],\n",
    "            0,\n",
    "            i\n",
    "            ) #should be replaced to theta(list_eta[i]), phi(list_ksi[i])\n",
    "        #Young Oh should read this!\n",
    "\n",
    "    twolocal = TwoLocal(num_qubits=M, reps=depth, rotation_blocks=['ry','rz'], \n",
    "                   entanglement_blocks='cx', entanglement='circular', parameter_prefix='ξ', insert_barriers=True)\n",
    "    twolocal = twolocal.bind_parameters(list_ksi)\n",
    "    \n",
    "    qc += qc_descriptor\n",
    "    qc.barrier()\n",
    "\n",
    "    qc += twolocal\n",
    "    qc.barrier()\n",
    "\n",
    "    #Observable\n",
    "    qc.z(0)\n",
    "\n",
    "    qc.barrier()\n",
    "\n",
    "    qc += twolocal.inverse()\n",
    "    qc.barrier()\n",
    "\n",
    "    qc += qc_descriptor.inverse()\n",
    "    qc.barrier()\n",
    "    \n",
    "    return qc"
   ]
  },
  {
   "cell_type": "code",
   "execution_count": 10,
   "metadata": {},
   "outputs": [],
   "source": [
    "def calculate_loss_function(parameters, random_indexes):\n",
    "\n",
    "    \n",
    "    backend = Aer.get_backend('aer_simulator')\n",
    "    loss = 0\n",
    "    \n",
    "    for molecule_index in random_indexes:\n",
    "        energy = 0\n",
    "        list_eta = np.array(parameters[0:M])\n",
    "        \n",
    "        atom_data = AtomLoader(list_eta, idx=[molecule_index])\n",
    "        ground_energy_label = atom_data[molecule_index]['ground_energy'][0]/-20000\n",
    "        descriptors = atom_data[molecule_index]['descriptor']\n",
    "        n_atoms = len(atom_data[molecule_index]['descriptor'])\n",
    "        # for i in range(0, N):\n",
    "\n",
    "        for i, atomic_descriptors in enumerate(descriptors):\n",
    "\n",
    "            qctl = QuantumRegister(M)\n",
    "            qc = ClassicalRegister(M)\n",
    "            circ = QuantumCircuit(qctl, qc)\n",
    "        \n",
    "            circ += training_circuit(parameters, atomic_descriptors)\n",
    "            \n",
    "            circ.save_statevector()\n",
    "            t_circ = transpile(circ, backend)\n",
    "            qobj = assemble(t_circ)\n",
    "            job = backend.run(qobj)\n",
    "\n",
    "            result = job.result()\n",
    "            outputstate = result.get_statevector(circ, decimals=100)\n",
    "            o = outputstate\n",
    "\n",
    "            energy += np.real(o[0]) ## <0|GdWdOWG|0> is picking first component of GdWdOWG|0>. I don't think square is necessary\n",
    "        \n",
    "        loss += ((energy - ground_energy_label)/n_atoms)**2\n",
    "\n",
    "    return np.sqrt(loss/len(random_indexes))"
   ]
  },
  {
   "cell_type": "code",
   "execution_count": null,
   "metadata": {},
   "outputs": [
    {
     "name": "stdout",
     "output_type": "stream",
     "text": [
      "Number of total parameters:  28\n",
      "0.2513845546617986\n"
     ]
    }
   ],
   "source": [
    "M = 4 #Number of descriptors (features) = Number of qubits\n",
    "depth = 2 #Number of repetitions of layer\n",
    "len_param = M*(2*depth+3) #Number of total parameters (eta + ksi)\n",
    "\n",
    "print(\"Number of total parameters: \", len_param)\n",
    "\n",
    "random_indexes = [str(x) for x in (np.random.choice(len(qm9),5 ) + 1)]\n",
    "\n",
    "print(calculate_loss_function(x0,random_indexes))\n",
    "\n",
    "class OpObj(object):\n",
    "    def __init__(self):\n",
    "        #맨처음 params의 초기값 \n",
    "        random.seed(81)\n",
    "        self.x_0 = np.linspace(0, 1, M).tolist() + [float(random.randint(0,3000))/1000 for i in range(0, len_param-M)]\n",
    "        #minimize 중간에 뽑아져 나오는 값을 담을 변수\n",
    "        self.f = np.full(shape=(iter,), fill_value=np.NaN)\n",
    "        #그걸 f 의 몇번째에 넣을지 계산하는 변수 \n",
    "        self.count = 0\n",
    "        \n",
    "\n",
    "start = time.time()\n",
    "out = minimize(calculate_loss_function, \n",
    "    x0, \n",
    "    method=\"COBYLA\", \n",
    "    options={'maxiter':100},\n",
    "    args=(random_indexes)\n",
    "    )\n",
    "end = time.time()\n",
    "\n",
    "print(f\"Calculation time: {end-start}s\\n\")\n",
    "\n",
    "print(out)\n",
    "\n",
    "#out_f = [out['x'][0:3], out['x'][3:6], out['x'][6:9]]"
   ]
  },
  {
   "cell_type": "code",
   "execution_count": 15,
   "metadata": {},
   "outputs": [
    {
     "data": {
      "text/plain": [
       "['43324']"
      ]
     },
     "execution_count": 15,
     "metadata": {},
     "output_type": "execute_result"
    }
   ],
   "source": [
    "random_indexes"
   ]
  },
  {
   "cell_type": "code",
   "execution_count": 23,
   "metadata": {},
   "outputs": [
    {
     "data": {
      "text/plain": [
       "array([2.25016042, 1.19627615, 2.4758455 , 3.54709867, 2.95321155,\n",
       "       2.70278014, 2.32553127, 2.11312249, 2.09122828, 1.07384407,\n",
       "       1.91246993, 1.86939811, 0.13562813, 0.4481549 , 1.9255319 ,\n",
       "       1.50425959, 1.85176361, 3.42927938, 2.29592876, 0.12867847,\n",
       "       2.45367396])"
      ]
     },
     "execution_count": 23,
     "metadata": {},
     "output_type": "execute_result"
    }
   ],
   "source": [
    "\n",
    "np.save('out.npy',np.array(out.x))"
   ]
  },
  {
   "cell_type": "code",
   "execution_count": 42,
   "metadata": {},
   "outputs": [
    {
     "name": "stderr",
     "output_type": "stream",
     "text": [
      "/home/justids/anaconda3/envs/qiskit/lib/python3.7/site-packages/ipykernel_launcher.py:23: DeprecationWarning: The QuantumCircuit.__iadd__() method is being deprecated. Use the compose() (potentially with the inplace=True argument) and tensor() methods which are more flexible w.r.t circuit register compatibility.\n",
      "/home/justids/anaconda3/envs/qiskit/lib/python3.7/site-packages/ipykernel_launcher.py:26: DeprecationWarning: The QuantumCircuit.__iadd__() method is being deprecated. Use the compose() (potentially with the inplace=True argument) and tensor() methods which are more flexible w.r.t circuit register compatibility.\n",
      "/home/justids/anaconda3/envs/qiskit/lib/python3.7/site-packages/ipykernel_launcher.py:34: DeprecationWarning: The QuantumCircuit.__iadd__() method is being deprecated. Use the compose() (potentially with the inplace=True argument) and tensor() methods which are more flexible w.r.t circuit register compatibility.\n",
      "/home/justids/anaconda3/envs/qiskit/lib/python3.7/site-packages/ipykernel_launcher.py:37: DeprecationWarning: The QuantumCircuit.__iadd__() method is being deprecated. Use the compose() (potentially with the inplace=True argument) and tensor() methods which are more flexible w.r.t circuit register compatibility.\n",
      "/home/justids/anaconda3/envs/qiskit/lib/python3.7/site-packages/ipykernel_launcher.py:13: DeprecationWarning: The QuantumCircuit.__iadd__() method is being deprecated. Use the compose() (potentially with the inplace=True argument) and tensor() methods which are more flexible w.r.t circuit register compatibility.\n",
      "  del sys.path[0]\n"
     ]
    },
    {
     "name": "stdout",
     "output_type": "stream",
     "text": [
      "0.5385008252893783\n",
      "0.5385087715150687\n"
     ]
    }
   ],
   "source": [
    "molecule_index = '28970' \n",
    "list_eta = out.x[0:M]\n",
    "atom_data = AtomLoader(list_eta, idx=[molecule_index])\n",
    "ground_energy_label = atom_data[molecule_index]['ground_energy'][0]/-20000\n",
    "descriptors = atom_data[molecule_index]['descriptor']\n",
    "n_atoms = len(atom_data[molecule_index]['descriptor'])\n",
    "energy = 0\n",
    "for i, atomic_descriptors in enumerate(descriptors):\n",
    "    qctl = QuantumRegister(M)\n",
    "    qc = ClassicalRegister(M)\n",
    "    circ = QuantumCircuit(qctl, qc)\n",
    "\n",
    "    circ += training_circuit(out.x, atomic_descriptors)\n",
    "    \n",
    "    # circ.save_statevector()\n",
    "    t_circ = transpile(circ, backend)\n",
    "    qobj = assemble(t_circ)\n",
    "    job = backend.run(qobj)\n",
    "\n",
    "    result = job.result()\n",
    "    outputstate = result.get_statevector(circ, decimals=100)\n",
    "    o = outputstate\n",
    "\n",
    "    energy += np.real(o[0]) ## <0|GdWdOWG|0> is picking first component of GdWdOWG|0>. I don't think square is necessary\n",
    "print(energy)\n",
    "print(ground_energy_label)"
   ]
  },
  {
   "cell_type": "code",
   "execution_count": 39,
   "metadata": {},
   "outputs": [
    {
     "data": {
      "text/plain": [
       "-11824.799608105232"
      ]
     },
     "execution_count": 39,
     "metadata": {},
     "output_type": "execute_result"
    }
   ],
   "source": [
    "ground_energy_label*-20000"
   ]
  },
  {
   "cell_type": "code",
   "execution_count": 41,
   "metadata": {},
   "outputs": [
    {
     "data": {
      "text/plain": [
       "['28970']"
      ]
     },
     "execution_count": 41,
     "metadata": {},
     "output_type": "execute_result"
    }
   ],
   "source": [
    "random_indexes"
   ]
  },
  {
   "cell_type": "code",
   "execution_count": null,
   "metadata": {},
   "outputs": [],
   "source": []
  }
 ],
 "metadata": {
  "kernelspec": {
   "display_name": "Python 3",
   "language": "python",
   "name": "python3"
  },
  "language_info": {
   "codemirror_mode": {
    "name": "ipython",
    "version": 3
   },
   "file_extension": ".py",
   "mimetype": "text/x-python",
   "name": "python",
   "nbconvert_exporter": "python",
   "pygments_lexer": "ipython3",
   "version": "3.8.5"
  }
 },
 "nbformat": 4,
 "nbformat_minor": 4
}
