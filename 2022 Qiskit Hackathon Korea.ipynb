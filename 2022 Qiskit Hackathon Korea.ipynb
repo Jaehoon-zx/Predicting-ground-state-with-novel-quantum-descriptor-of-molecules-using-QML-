{
 "cells": [
  {
   "cell_type": "code",
   "execution_count": 5,
   "metadata": {},
   "outputs": [],
   "source": [
    "# Useful additional packages\n",
    "import matplotlib.pyplot as plt\n",
    "import numpy as np\n",
    "from math import pi\n",
    "\n",
    "from qiskit import QuantumCircuit, ClassicalRegister, QuantumRegister, transpile\n",
    "from qiskit.tools.visualization import circuit_drawer\n",
    "from qiskit.quantum_info import state_fidelity\n",
    "from qiskit import BasicAer\n",
    "\n",
    "backend = BasicAer.get_backend('unitary_simulator')"
   ]
  },
  {
   "cell_type": "code",
   "execution_count": null,
   "metadata": {},
   "outputs": [],
   "source": []
  },
  {
   "cell_type": "code",
   "execution_count": 11,
   "metadata": {},
   "outputs": [],
   "source": [
    "import math"
   ]
  },
  {
   "cell_type": "code",
   "execution_count": 12,
   "metadata": {},
   "outputs": [],
   "source": [
    "def cos_1 (x):\n",
    "    return math.cos(x)"
   ]
  },
  {
   "cell_type": "code",
   "execution_count": 13,
   "metadata": {},
   "outputs": [
    {
     "data": {
      "text/html": [
       "<pre style=\"word-wrap: normal;white-space: pre;background: #fff0;line-height: 1.1;font-family: &quot;Courier New&quot;,Courier,monospace\">      ┌──────────────────────────────────────────┐\n",
       "q0_0: ┤0                                         ├\n",
       "      │                                          │\n",
       "q0_1: ┤1 Initialize(0.70711,0,0.70711,0,0,0,0,0) ├\n",
       "      │                                          │\n",
       "q0_2: ┤2                                         ├\n",
       "      └──────────────────────────────────────────┘</pre>"
      ],
      "text/plain": [
       "      ┌──────────────────────────────────────────┐\n",
       "q0_0: ┤0                                         ├\n",
       "      │                                          │\n",
       "q0_1: ┤1 Initialize(0.70711,0,0.70711,0,0,0,0,0) ├\n",
       "      │                                          │\n",
       "q0_2: ┤2                                         ├\n",
       "      └──────────────────────────────────────────┘"
      ]
     },
     "execution_count": 13,
     "metadata": {},
     "output_type": "execute_result"
    }
   ],
   "source": [
    "# Initializing a three-qubit quantum state\n",
    "desired_vector = [\n",
    "    cos_1(np.pi/4),\n",
    "    0,\n",
    "    cos_1(np.pi/4),\n",
    "    0,\n",
    "    0,\n",
    "    0,\n",
    "    0,\n",
    "    0]\n",
    "\n",
    "\n",
    "q = QuantumRegister(3)\n",
    "\n",
    "qc = QuantumCircuit(q)\n",
    "\n",
    "qc.initialize(desired_vector, [q[0],q[1],q[2]])\n",
    "qc.draw()"
   ]
  },
  {
   "cell_type": "code",
   "execution_count": 14,
   "metadata": {},
   "outputs": [
    {
     "data": {
      "text/plain": [
       "array([0.70710678+0.j, 0.        +0.j, 0.70710678+0.j, 0.        +0.j,\n",
       "       0.        +0.j, 0.        +0.j, 0.        +0.j, 0.        +0.j])"
      ]
     },
     "execution_count": 14,
     "metadata": {},
     "output_type": "execute_result"
    }
   ],
   "source": [
    "backend = BasicAer.get_backend('statevector_simulator')\n",
    "job = backend.run(transpile(qc, backend))\n",
    "qc_state = job.result().get_statevector(qc)\n",
    "qc_state"
   ]
  },
  {
   "cell_type": "code",
   "execution_count": 15,
   "metadata": {},
   "outputs": [
    {
     "data": {
      "text/plain": [
       "1.0"
      ]
     },
     "execution_count": 15,
     "metadata": {},
     "output_type": "execute_result"
    }
   ],
   "source": [
    "state_fidelity(desired_vector,qc_state)"
   ]
  },
  {
   "cell_type": "code",
   "execution_count": 17,
   "metadata": {},
   "outputs": [],
   "source": [
    "from qiskit.circuit.library import TwoLocal"
   ]
  },
  {
   "cell_type": "code",
   "execution_count": 18,
   "metadata": {},
   "outputs": [],
   "source": [
    "def training_circuit(parameters):\n",
    "    \n",
    "    qc = QuantumCircuit(M)\n",
    "    qc_descriptor = QuantumCircuit(M)\n",
    "    \n",
    "    list_eta = parameters[0:M]\n",
    "    list_ksi = parameters[M:5*M] ## twolocal have 4M parameters\n",
    "    \n",
    "    for i in range(M):\n",
    "        qc_descriptor.u(math.cos(list_eta[i]),math.cos(list_eta[i]),0,i) #should be replaced to theta, phi   \n",
    "\n",
    "    twolocal = TwoLocal(num_qubits=M, reps=depth, rotation_blocks=['ry','rz'], \n",
    "                   entanglement_blocks='cx', entanglement='circular', parameter_prefix='ξ', insert_barriers=True)\n",
    "    twolocal.bind_parameters(list_ksi)\n",
    "    \n",
    "    qc += qc_descriptor\n",
    "    qc.barrier()\n",
    "\n",
    "    qc += twolocal\n",
    "    qc.barrier()\n",
    "\n",
    "    #Observable\n",
    "    qc.z(0)\n",
    "\n",
    "    qc.barrier()\n",
    "\n",
    "    qc += twolocal.inverse()\n",
    "    qc.barrier()\n",
    "\n",
    "    qc += qc_descriptor.inverse()\n",
    "    qc.barrier()\n",
    "\n",
    "    #qc.decompose().draw('mpl')\n",
    "    \n",
    "    return qc\n",
    "    "
   ]
  },
  {
   "cell_type": "code",
   "execution_count": 26,
   "metadata": {},
   "outputs": [
    {
     "name": "stderr",
     "output_type": "stream",
     "text": [
      "<ipython-input-18-c834f495ab29>:16: DeprecationWarning: The QuantumCircuit.__iadd__() method is being deprecated. Use the compose() (potentially with the inplace=True argument) and tensor() methods which are more flexible w.r.t circuit register compatibility.\n",
      "  qc += qc_descriptor\n",
      "<ipython-input-18-c834f495ab29>:19: DeprecationWarning: The QuantumCircuit.__iadd__() method is being deprecated. Use the compose() (potentially with the inplace=True argument) and tensor() methods which are more flexible w.r.t circuit register compatibility.\n",
      "  qc += twolocal\n",
      "<ipython-input-18-c834f495ab29>:27: DeprecationWarning: The QuantumCircuit.__iadd__() method is being deprecated. Use the compose() (potentially with the inplace=True argument) and tensor() methods which are more flexible w.r.t circuit register compatibility.\n",
      "  qc += twolocal.inverse()\n",
      "<ipython-input-18-c834f495ab29>:30: DeprecationWarning: The QuantumCircuit.__iadd__() method is being deprecated. Use the compose() (potentially with the inplace=True argument) and tensor() methods which are more flexible w.r.t circuit register compatibility.\n",
      "  qc += qc_descriptor.inverse()\n"
     ]
    },
    {
     "data": {
      "image/png": "[encoded data removed]",
      "text/plain": [
       "<Figure size 1531.25x144.48 with 1 Axes>"
      ]
     },
     "execution_count": 26,
     "metadata": {},
     "output_type": "execute_result"
    }
   ],
   "source": [
    "M=2\n",
    "\n",
    "depth = 1\n",
    "\n",
    "parameters= np.ones(5*M)#[1,1,1,1,1,1,1,1,1,1]\n",
    "qc = training_circuit(parameters)\n",
    "qc.decompose().draw('mpl')"
   ]
  },
  {
   "cell_type": "code",
   "execution_count": 56,
   "metadata": {},
   "outputs": [],
   "source": [
    "def calculate_loss_function(parameters):\n",
    "\n",
    "    result = 0\n",
    "    \n",
    "    parameters = [parameters[0:3], parameters[3:6], parameters[6:9]]\n",
    "\n",
    "    for i in range(0, len(gate_set)):\n",
    "        qctl = QuantumRegister(N)\n",
    "        qc = ClassicalRegister(N)\n",
    "        circ = QuantumCircuit(qctl, qc)\n",
    "\n",
    "        backend = Aer.get_backend('aer_simulator')\n",
    "    \n",
    "        circ += training_circuit()\n",
    "        \n",
    "        circ.save_statevector()\n",
    "        t_circ = transpile(circ, backend)\n",
    "        qobj = assemble(t_circ)\n",
    "        job = backend.run(qobj)\n",
    "\n",
    "        result = job.result()\n",
    "        outputstate = result.get_statevector(circ, decimals=100)\n",
    "        o = outputstate\n",
    "\n",
    "        result = np.real(o[0]) ## <0|GdWdOWG|0> is picking first component of GdWdOWG|0>. I don't think square is necessary\n",
    "    \n",
    "    return result"
   ]
  },
  {
   "cell_type": "code",
   "execution_count": null,
   "metadata": {},
   "outputs": [],
   "source": [
    "list_theta = [1,2]\n",
    "list_phi = [1,2]\n",
    "M = 2\n",
    "N = 4\n",
    "depth = 3\n",
    "\n",
    "out = minimize(calculate_loss_function, x0=[float(random.randint(0,3000))/1000 for i in range(0, 4*M)], method=\"COBYLA\", options={'maxiter':200})\n",
    "print(out)\n",
    "\n",
    "out_f = [out['x'][0:3], out['x'][3:6], out['x'][6:9]]\n"
   ]
  }
 ],
 "metadata": {
  "kernelspec": {
   "display_name": "Python 3",
   "language": "python",
   "name": "python3"
  },
  "language_info": {
   "codemirror_mode": {
    "name": "ipython",
    "version": 3
   },
   "file_extension": ".py",
   "mimetype": "text/x-python",
   "name": "python",
   "nbconvert_exporter": "python",
   "pygments_lexer": "ipython3",
   "version": "3.8.5"
  }
 },
 "nbformat": 4,
 "nbformat_minor": 4
}
